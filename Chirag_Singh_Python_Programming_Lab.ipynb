{
  "nbformat": 4,
  "nbformat_minor": 0,
  "metadata": {
    "colab": {
      "name": "Chirag Singh - Python Programming Lab.ipynb",
      "provenance": [],
      "collapsed_sections": [],
      "include_colab_link": true
    },
    "kernelspec": {
      "name": "python3",
      "display_name": "Python 3"
    }
  },
  "cells": [
    {
      "cell_type": "markdown",
      "metadata": {
        "id": "view-in-github",
        "colab_type": "text"
      },
      "source": [
        "<a href=\"https://colab.research.google.com/github/chiragrawat12/MyProjects-Python/blob/master/Chirag_Singh_Python_Programming_Lab.ipynb\" target=\"_parent\"><img src=\"https://colab.research.google.com/assets/colab-badge.svg\" alt=\"Open In Colab\"/></a>"
      ]
    },
    {
      "cell_type": "markdown",
      "metadata": {
        "id": "yOYe5UAxpvIr",
        "colab_type": "text"
      },
      "source": [
        "#**Python Programming Lab:**\n"
      ]
    },
    {
      "cell_type": "markdown",
      "metadata": {
        "id": "IEYwj-PKnOYe",
        "colab_type": "text"
      },
      "source": [
        "###1. To write a python program that takes in command line arguments as input and print the number of arguments.\n"
      ]
    },
    {
      "cell_type": "code",
      "metadata": {
        "id": "MkdBNF7snMLl",
        "colab_type": "code",
        "outputId": "a454c50d-e970-45e9-d695-913dc83c4971",
        "colab": {
          "base_uri": "https://localhost:8080/",
          "height": 35
        }
      },
      "source": [
        "#code here\n",
        "import sys\n",
        "print(len(sys.argv))"
      ],
      "execution_count": 0,
      "outputs": [
        {
          "output_type": "stream",
          "text": [
            "3\n"
          ],
          "name": "stdout"
        }
      ]
    },
    {
      "cell_type": "markdown",
      "metadata": {
        "id": "4daVCbF7nRPf",
        "colab_type": "text"
      },
      "source": [
        "###2. To write a python program to perform Matrix Multiplication.\n"
      ]
    },
    {
      "cell_type": "code",
      "metadata": {
        "colab_type": "code",
        "id": "_wEq5gJloj0n",
        "outputId": "90eeab81-9209-4c6a-e6f5-75bf27d898b0",
        "colab": {
          "base_uri": "https://localhost:8080/",
          "height": 345
        }
      },
      "source": [
        "#code here\n",
        "M1=[]\n",
        "M2=[]\n",
        "M3=[]\n",
        "m,n=[int(i) for i in input(\"Enter rows and columns of matrix 1: \").split()]\n",
        "o,p=[int(i) for i in input(\"Enter rows and columns of matrix 2: \").split()]\n",
        "if n==o:\n",
        "  print(\"Enter Elements of Matrix 1: \")\n",
        "  for i in range(m):\n",
        "    lst=[]\n",
        "    for j in range(n):\n",
        "      lst.append(int(input()))\n",
        "    M1.append(lst)\n",
        "  print(\"Enter Elements of Matrix 2: \")\n",
        "  for i in range(o):\n",
        "    lst=[]\n",
        "    for j in range(p):\n",
        "      lst.append(int(input()))\n",
        "    M2.append(lst)\n",
        "\n",
        "  for i in range(m):\n",
        "    lst=[]\n",
        "    for j in range(p):\n",
        "      s=0\n",
        "      for k in range(o):\n",
        "        s+=M1[i][k]*M2[k][j]\n",
        "      lst.append(s)\n",
        "    M3.append(lst)\n",
        "  print(\"M1 x M2 : \")\n",
        "  for i in range(m):\n",
        "    print(M3[i])\n",
        "else:\n",
        "  print(\"Column of matrix 1 is not equal to rows of matrix 2\")"
      ],
      "execution_count": 0,
      "outputs": [
        {
          "output_type": "stream",
          "text": [
            "Enter rows and columns of matrix 1:2 3\n",
            "Enter rows and columns of matrix 2:3 2\n",
            "Enter Elements of Matrix 1: \n",
            "1\n",
            "2\n",
            "3\n",
            "4\n",
            "5\n",
            "6\n",
            "Enter Elements of Matrix 2: \n",
            "7\n",
            "8\n",
            "9\n",
            "10\n",
            "11\n",
            "12\n",
            "[58, 64]\n",
            "[139, 154]\n"
          ],
          "name": "stdout"
        }
      ]
    },
    {
      "cell_type": "markdown",
      "metadata": {
        "id": "lTa79nG9nT_c",
        "colab_type": "text"
      },
      "source": [
        "###3. To write a python program to compute the GCD of two numbers."
      ]
    },
    {
      "cell_type": "code",
      "metadata": {
        "colab_type": "code",
        "id": "inT-8L1wolwn",
        "outputId": "00e42ca4-e5c1-46d9-d296-dd0f4739f2c2",
        "colab": {
          "base_uri": "https://localhost:8080/",
          "height": 54
        }
      },
      "source": [
        "#code here\n",
        "m,n=[int(i) for i in input(\"Enter Two No.s: \").split()]\n",
        "def FindGCD(m,n):\n",
        "    while(n):\n",
        "        m,n= n , m%n\n",
        "    return m\n",
        "print(\"GCD of {} and {}: \".format(m,n),FindGCD(m,n))"
      ],
      "execution_count": 0,
      "outputs": [
        {
          "output_type": "stream",
          "text": [
            "Enter Two No.s: 64 48\n",
            "GCD of 64 and 48:  16\n"
          ],
          "name": "stdout"
        }
      ]
    },
    {
      "cell_type": "markdown",
      "metadata": {
        "id": "mEOxsRFinflh",
        "colab_type": "text"
      },
      "source": [
        "###4. To write a python program to find the most frequent words in a text file.\n"
      ]
    },
    {
      "cell_type": "code",
      "metadata": {
        "colab_type": "code",
        "id": "27oRaMR_omlD",
        "outputId": "17df39f1-1378-4a76-9680-354905e8fcb4",
        "colab": {
          "base_uri": "https://localhost:8080/",
          "height": 35
        }
      },
      "source": [
        "import operator\n",
        "with open(\"words.txt\",\"w\") as f:\n",
        "  f.write(\"Lorem Ipsum is simply dummy text of the printing and typesetting industry.\\nLorem Ipsum has been the industry's standard dummy text ever since the 1500s,\\nwhen an unknown printer took a galley of type and scrambled it to make a type specimen book.\\nIt has survived not only five centuries, but also the leap into electronic typesetting,\\nremaining essentially unchanged. It was popularised in the 1960s with the release of Letraset sheets containing Lorem Ipsum passages,\\nand more recently with desktop publishing software like Aldus PageMaker including versions of Lorem Ipsum\")\n",
        "\n",
        "with open(\"words.txt\",\"r\") as f:\n",
        "  count=dict()\n",
        "  lst=f.read().split()\n",
        "  s=set(lst)\n",
        "  for i in s:\n",
        "    count[i]=lst.count(i)\n",
        "  item=max(count.items(),key= operator.itemgetter(1))\n",
        "  print(\"\\'{}\\' is used {} times in this file\".format(item[0],item[1]))\n",
        "\n",
        "\n"
      ],
      "execution_count": 0,
      "outputs": [
        {
          "output_type": "stream",
          "text": [
            "'the' is used 6 times in this file\n"
          ],
          "name": "stdout"
        }
      ]
    },
    {
      "cell_type": "markdown",
      "metadata": {
        "id": "oSbeWPl_nix2",
        "colab_type": "text"
      },
      "source": [
        "### 5. To write a python program find the square root of a number (Newton’s method).\n"
      ]
    },
    {
      "cell_type": "code",
      "metadata": {
        "id": "IDNqBDvJooeb",
        "colab_type": "code",
        "outputId": "488ffd9b-fe0a-4607-db62-cc42c702c32e",
        "colab": {
          "base_uri": "https://localhost:8080/",
          "height": 54
        }
      },
      "source": [
        "#code here\n",
        "n=int(input(\"Enter a number to find it's square root: \"))\n",
        "def sqroot(n):\n",
        "  x = n;\n",
        "  while (1) :     \n",
        "    root = 0.5 * (x + (n / x));\n",
        "    if (abs(root - x) < 1) :\n",
        "      break;  \n",
        "    x = root; \n",
        "  return root;  \n",
        "\n",
        "print(\"Square root of\",n,\"is\",sqroot(n))"
      ],
      "execution_count": 0,
      "outputs": [
        {
          "output_type": "stream",
          "text": [
            "Enter a number to find it's square root: 327\n",
            "Square root of 327 is 18.083166659124117\n"
          ],
          "name": "stdout"
        }
      ]
    },
    {
      "cell_type": "markdown",
      "metadata": {
        "id": "cKwSX1pAnld2",
        "colab_type": "text"
      },
      "source": [
        "###6. To write a python program exponentiation (power of a number).\n"
      ]
    },
    {
      "cell_type": "code",
      "metadata": {
        "colab_type": "code",
        "id": "TT95AQx8ovHu",
        "outputId": "3da948e1-a479-4c81-c46c-ef28afafdb30",
        "colab": {
          "base_uri": "https://localhost:8080/",
          "height": 54
        }
      },
      "source": [
        "#code here\n",
        "n,e=[int(i) for i in input(\"Enter Number and its exponent: \").split()]\n",
        "\n",
        "def exponent(n,e):\n",
        "  x=1\n",
        "  for i in range(e):\n",
        "    x=x*n\n",
        "  return x\n",
        "\n",
        "print(\"{} to the Power of {} : {}\".format(n,e,exponent(n,e)))"
      ],
      "execution_count": 0,
      "outputs": [
        {
          "output_type": "stream",
          "text": [
            "Enter Number and its exponent: 6 2\n",
            "6 to the Power of 2 : 36\n"
          ],
          "name": "stdout"
        }
      ]
    },
    {
      "cell_type": "markdown",
      "metadata": {
        "id": "MByQZksCnpLg",
        "colab_type": "text"
      },
      "source": [
        "###7. To write a python program find the maximum of a list of numbers.\n"
      ]
    },
    {
      "cell_type": "code",
      "metadata": {
        "colab_type": "code",
        "id": "XB8guxF-ov9c",
        "outputId": "57170427-c1e4-46a0-c197-1467eace51c8",
        "colab": {
          "base_uri": "https://localhost:8080/",
          "height": 54
        }
      },
      "source": [
        "#code here\n",
        "arr=list(map(int,input(\"Enter values: \").split()))\n",
        "def maxN(arr):\n",
        "  MaxN=arr[0]\n",
        "  for val in arr:\n",
        "    if val>MaxN:\n",
        "      MaxN=val\n",
        "  return MaxN\n",
        "print(\"Maximun number in this list of numbers is: \",maxN(arr))"
      ],
      "execution_count": 0,
      "outputs": [
        {
          "output_type": "stream",
          "text": [
            "Enter values: 2 3 4 5 5 23 12 45 34 42\n",
            "Maximun number in this list of numbers is:  45\n"
          ],
          "name": "stdout"
        }
      ]
    },
    {
      "cell_type": "markdown",
      "metadata": {
        "id": "jQqQCCzRntC1",
        "colab_type": "text"
      },
      "source": [
        "###8. To write a python program linear search.\n"
      ]
    },
    {
      "cell_type": "code",
      "metadata": {
        "colab_type": "code",
        "id": "E72pja6-oxRf",
        "outputId": "4ee1d8a1-0965-447d-d59f-73163d5fd546",
        "colab": {
          "base_uri": "https://localhost:8080/",
          "height": 72
        }
      },
      "source": [
        "#code here\n",
        "arr=list(map(int,input(\"Enter values: \").split()))\n",
        "x=int(input(\"Enter a number you want to search: \"))\n",
        "for index,value in enumerate(arr):\n",
        "  if value==x:\n",
        "    print(x,\"found at position \",index+1);\n",
        "    break"
      ],
      "execution_count": 0,
      "outputs": [
        {
          "output_type": "stream",
          "text": [
            "Enter values: 2 3 4 5 6 7 8 9 10 34 23 56 78 98\n",
            "Enter a number you want to search: 34\n",
            "34 found at position  10\n"
          ],
          "name": "stdout"
        }
      ]
    },
    {
      "cell_type": "markdown",
      "metadata": {
        "id": "_rR_ZdSBnvrC",
        "colab_type": "text"
      },
      "source": [
        "###9. To write a python program Binary search.\n"
      ]
    },
    {
      "cell_type": "code",
      "metadata": {
        "colab_type": "code",
        "id": "OlFVmdGUo8KV",
        "outputId": "55736b80-2cf0-47a2-96a0-f2db65bc88bb",
        "colab": {
          "base_uri": "https://localhost:8080/",
          "height": 72
        }
      },
      "source": [
        "lst=list(map(int,input(\"Enter Elements in Ascending order: \").split()))\n",
        "key=int(input(\"Enter Element to search: \"))\n",
        "def binarySearch(lst,start,end,key):\n",
        "  if start>end:\n",
        "    return False\n",
        "  mid = (start + end) // 2\n",
        "  if lst[mid] == key:\n",
        "    return mid\n",
        "  if (lst[mid] > key):\n",
        "    return binarySearch(lst, start, mid - 1, key)\n",
        "  else:\n",
        "    return binarySearch(lst, mid + 1, end, key)\n",
        "\n",
        "\n",
        "\n",
        "pos=binarySearch(lst,0,len(lst),key)\n",
        "if pos==False:\n",
        "  print(\"Element Not Found!\")\n",
        "else:\n",
        "  print(\"Element {} found at {}\".format(key, pos+1))\n"
      ],
      "execution_count": 0,
      "outputs": [
        {
          "output_type": "stream",
          "text": [
            "Enter Elements in Ascending order: 12 15 22 35 67 69 87 99\n",
            "Enter Element to search: 35\n",
            "Element 35 found at 4\n"
          ],
          "name": "stdout"
        }
      ]
    },
    {
      "cell_type": "markdown",
      "metadata": {
        "id": "XhBCuJnZnx3s",
        "colab_type": "text"
      },
      "source": [
        "###10. To write a python program selection sort.\n"
      ]
    },
    {
      "cell_type": "code",
      "metadata": {
        "colab_type": "code",
        "id": "HPu7bZZYo86y",
        "outputId": "9051575f-0082-43f6-a53e-7036c633e635",
        "colab": {
          "base_uri": "https://localhost:8080/",
          "height": 54
        }
      },
      "source": [
        "def minIndex(a, i, j):\n",
        "    if i == j:\n",
        "        return i\n",
        "    k = minIndex(a, i + 1, j)\n",
        "    return (i if a[i] < a[k] else k)\n",
        "def recurSelectionSort(a, n, index=0):\n",
        "    if index == n:\n",
        "        return -1\n",
        "    k = minIndex(a, index, n - 1)\n",
        "    if k != index:\n",
        "        a[k], a[index] = a[index], a[k]\n",
        "    recurSelectionSort(a, n, index + 1)\n",
        "arr = list(map(int,input(\"Enter Elements to sort in Ascending order: \").split()))\n",
        "n = len(arr)\n",
        "recurSelectionSort(arr, n)\n",
        "print(\"Sorted List: \",end=\"\")\n",
        "for i in arr:\n",
        "    print(i, end=' ')"
      ],
      "execution_count": 0,
      "outputs": [
        {
          "output_type": "stream",
          "text": [
            "Enter Elements to sort in Ascending order: 10 8 23 12 6 7 38 46 83\n",
            "Sorted List: 6 7 8 10 12 23 38 46 83 "
          ],
          "name": "stdout"
        }
      ]
    },
    {
      "cell_type": "markdown",
      "metadata": {
        "id": "bX5oyyWTn0u3",
        "colab_type": "text"
      },
      "source": [
        "###11. To write a python program Insertion sort.\n"
      ]
    },
    {
      "cell_type": "code",
      "metadata": {
        "colab_type": "code",
        "id": "dJWYwuZvo9qY",
        "outputId": "11b8e330-d8a4-4f1b-cc9d-e36b2cc837b4",
        "colab": {
          "base_uri": "https://localhost:8080/",
          "height": 217
        }
      },
      "source": [
        "def insertionSort(arr):\n",
        "    for i in range(1, len(arr)):\n",
        "        key = arr[i]\n",
        "        j = i - 1\n",
        "        while j >= 0 and key < arr[j]:\n",
        "            arr[j + 1] = arr[j]\n",
        "            j -= 1\n",
        "        arr[j + 1] = key\n",
        "\n",
        "\n",
        "arr = list(map(int,input(\"Enter Elements to sort in Ascending order: \").split()))\n",
        "insertionSort(arr)\n",
        "print(\"Sorted array is: \")\n",
        "for i in range(len(arr)):\n",
        "    print(\"%d\" % arr[i])"
      ],
      "execution_count": 0,
      "outputs": [
        {
          "output_type": "stream",
          "text": [
            "Enter Elements to sort in Ascending order: 10 8 23 12 6 7 38 46 83\n",
            "Sorted array is: \n",
            "6\n",
            "7\n",
            "8\n",
            "10\n",
            "12\n",
            "23\n",
            "38\n",
            "46\n",
            "83\n"
          ],
          "name": "stdout"
        }
      ]
    },
    {
      "cell_type": "markdown",
      "metadata": {
        "id": "25_rBzkfn3g3",
        "colab_type": "text"
      },
      "source": [
        "###12. To write a python program merge sort.\n"
      ]
    },
    {
      "cell_type": "code",
      "metadata": {
        "colab_type": "code",
        "id": "WQhqqVT1o-Ne",
        "outputId": "6ee80f0a-b497-40ec-a7bb-27ddc7173dab",
        "colab": {
          "base_uri": "https://localhost:8080/",
          "height": 435
        }
      },
      "source": [
        "def merge(arr, l, m, r):\n",
        "    n1 = m - l + 1\n",
        "    n2 = r - m\n",
        "\n",
        "    L = [0] * (n1)\n",
        "    R = [0] * (n2)\n",
        "\n",
        "    for i in range(0, n1):\n",
        "        L[i] = arr[l + i]\n",
        "\n",
        "    for j in range(0, n2):\n",
        "        R[j] = arr[m + 1 + j]\n",
        "    i = 0\n",
        "    j = 0\n",
        "    k = l\n",
        "    while i < n1 and j < n2:\n",
        "        if L[i] <= R[j]:\n",
        "            arr[k] = L[i]\n",
        "            i += 1\n",
        "        else:\n",
        "            arr[k] = R[j]\n",
        "            j += 1\n",
        "        k += 1\n",
        "    while i < n1:\n",
        "        arr[k] = L[i]\n",
        "        i += 1\n",
        "        k += 1\n",
        "\n",
        "    while j < n2:\n",
        "        arr[k] = R[j]\n",
        "        j += 1\n",
        "        k += 1\n",
        "def mergeSort(arr, l, r):\n",
        "    if l < r:\n",
        "        m = (l + (r - 1)) // 2\n",
        "        mergeSort(arr, l, m)\n",
        "        mergeSort(arr, m + 1, r)\n",
        "        merge(arr, l, m, r)\n",
        "\n",
        "arr =list(map(int,input(\"Enter Elements to sort in Ascending order: \").split()))\n",
        "n = len(arr)\n",
        "print(\"Given array is\")\n",
        "for i in range(n):\n",
        "    print(\"%d\" % arr[i]),\n",
        "\n",
        "mergeSort(arr, 0, n - 1)\n",
        "print(\"\\n\\nSorted array is\")\n",
        "for i in range(n):\n",
        "    print(\"%d\" % arr[i]),"
      ],
      "execution_count": 0,
      "outputs": [
        {
          "output_type": "stream",
          "text": [
            "Enter Elements to sort in Ascending order: 10 8 23 12 6 7 38 46 83\n",
            "Given array is\n",
            "10\n",
            "8\n",
            "23\n",
            "12\n",
            "6\n",
            "7\n",
            "38\n",
            "46\n",
            "83\n",
            "\n",
            "\n",
            "Sorted array is\n",
            "6\n",
            "7\n",
            "8\n",
            "10\n",
            "12\n",
            "23\n",
            "38\n",
            "46\n",
            "83\n"
          ],
          "name": "stdout"
        }
      ]
    },
    {
      "cell_type": "markdown",
      "metadata": {
        "id": "_hW6E0brn5yt",
        "colab_type": "text"
      },
      "source": [
        "###13. To write a python program first n prime numbers.\n"
      ]
    },
    {
      "cell_type": "code",
      "metadata": {
        "colab_type": "code",
        "id": "FIiPtzK9o-45",
        "outputId": "0cfdd916-31df-454b-ebc8-56e32b64ec51",
        "colab": {
          "base_uri": "https://localhost:8080/",
          "height": 490
        }
      },
      "source": [
        "n=int(input(\"Enter the value of n: \"))\n",
        "prime=[True]*(n+1)\n",
        "prime[0],prime[1]=False,False\n",
        "for i in range(2,n+1):\n",
        "  if prime[i]==True:\n",
        "    for j in range(i*i,n+1,i):\n",
        "      prime[j]=False\n",
        "for index,value in enumerate(prime):\n",
        "  if value==True:\n",
        "    print(index)\n"
      ],
      "execution_count": 0,
      "outputs": [
        {
          "output_type": "stream",
          "text": [
            "Enter the value of n: 100\n",
            "2\n",
            "3\n",
            "5\n",
            "7\n",
            "11\n",
            "13\n",
            "17\n",
            "19\n",
            "23\n",
            "29\n",
            "31\n",
            "37\n",
            "41\n",
            "43\n",
            "47\n",
            "53\n",
            "59\n",
            "61\n",
            "67\n",
            "71\n",
            "73\n",
            "79\n",
            "83\n",
            "89\n",
            "97\n"
          ],
          "name": "stdout"
        }
      ]
    },
    {
      "cell_type": "markdown",
      "metadata": {
        "id": "0Tdv_VgNn8NB",
        "colab_type": "text"
      },
      "source": [
        "###14. To write a python program simulate bouncing ball in Pygame. "
      ]
    },
    {
      "cell_type": "code",
      "metadata": {
        "colab_type": "code",
        "id": "FnzOoG7fo_qA",
        "colab": {}
      },
      "source": [
        "import pygame\n",
        "pygame.init()\n",
        "screen=pygame.display.set_mode((500,500))\n",
        "pygame.display.set_caption(\"Bouncing Ball\")\n",
        "isJump=False\n",
        "jumpCount=10\n",
        "run=True\n",
        "x=50\n",
        "y=50\n",
        "radius=50\n",
        "vel=20\n",
        "while run:\n",
        "    pygame.time.delay(50)\n",
        "    for event in pygame.event.get():\n",
        "        if event.type==pygame.QUIT:\n",
        "            run=False\n",
        "    keys=pygame.key.get_pressed()\n",
        "    if keys[pygame.K_LEFT] and x>50:\n",
        "        x-=vel\n",
        "    if keys[pygame.K_RIGHT] and x<450:\n",
        "        x+=vel\n",
        "    if not(isJump):\n",
        "        if keys[pygame.K_UP] and y>50:\n",
        "            y-=vel\n",
        "        if keys[pygame.K_DOWN] and y<450:\n",
        "            y+=vel\n",
        "        if(keys[pygame.K_SPACE]):\n",
        "            isJump=True\n",
        "    else:\n",
        "        if jumpCount>=-10:\n",
        "            neg=1\n",
        "            if jumpCount<0:\n",
        "                neg=-1\n",
        "            y-=int((jumpCount**2)*0.5*neg)\n",
        "            jumpCount-=1\n",
        "        else:\n",
        "            isJump=False\n",
        "            jumpCount=10\n",
        "\n",
        "    screen.fill((0, 0, 0))\n",
        "    pygame.draw.circle(screen,(255,0,0),(x,y),radius)\n",
        "    pygame.display.update()\n",
        "\n",
        "\n",
        "pygame.quit()\n"
      ],
      "execution_count": 0,
      "outputs": []
    }
  ]
}